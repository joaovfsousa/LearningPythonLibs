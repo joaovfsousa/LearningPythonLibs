{
 "metadata": {
  "language_info": {
   "codemirror_mode": {
    "name": "ipython",
    "version": 3
   },
   "file_extension": ".py",
   "mimetype": "text/x-python",
   "name": "python",
   "nbconvert_exporter": "python",
   "pygments_lexer": "ipython3",
   "version": "3.8.6-final"
  },
  "orig_nbformat": 2,
  "kernelspec": {
   "name": "python3",
   "display_name": "Python 3"
  }
 },
 "nbformat": 4,
 "nbformat_minor": 2,
 "cells": [
  {
   "cell_type": "code",
   "execution_count": 27,
   "metadata": {},
   "outputs": [
    {
     "output_type": "stream",
     "name": "stdout",
     "text": [
      "Python version 3.8.6\n"
     ]
    }
   ],
   "source": [
    "import sys\n",
    "print(\"Python version\", sys.version[:5])\n",
    "import re"
   ]
  },
  {
   "source": [
    "# Why to use raw string?\n",
    "It's recommended to use raw string while working with Regex once the string special prefix *r* indicates to Python's interpreter to ignore special(escape) characters"
   ],
   "cell_type": "markdown",
   "metadata": {}
  },
  {
   "source": [
    "# Checking\n",
    "## Search\n",
    "Scan through the `input_str`, looking for any location where the `pattern` matches.\n",
    "\n",
    "`result = search(pattern, input_str)`\n",
    "### Match\n",
    "Determine if the `pattern` matches at the beginning of the `input_str`.\n",
    "\n",
    "`result = match(pattern, input_str)`\n",
    "### FullMatch\n",
    "Determine if the `pattern` matches at the entire `input_str`.\n",
    "\n",
    "`result = fullmatch(pattern, input_str)`\n",
    "### FindAll\n",
    "Find all substrings where the `pattern` matches, and returns them as a `list`.\n",
    "\n",
    "`result = findall(pattern, input_str)`\n",
    "### FindIter\n",
    "Find all substrings where the `pattern` matches, and returns them as a `iterator`.\n",
    "\n",
    "`result = finditer(pattern, input_str)`\n",
    "\n",
    "## Examples:"
   ],
   "cell_type": "markdown",
   "metadata": {}
  },
  {
   "cell_type": "code",
   "execution_count": 28,
   "metadata": {},
   "outputs": [
    {
     "output_type": "stream",
     "name": "stdout",
     "text": [
      "Substring match: [9, 19)\n"
     ]
    }
   ],
   "source": [
    "regex = r\"([a-zA-Z]+) (\\d+)\"\n",
    "result = re.search(regex, \"Today is October 22\")\n",
    "print(f\"Substring match: [{result.start()}, {result.end()})\")"
   ]
  },
  {
   "cell_type": "code",
   "execution_count": 29,
   "metadata": {},
   "outputs": [
    {
     "output_type": "stream",
     "name": "stdout",
     "text": [
      "('October', '22')\nToday is October 22\nMonth: October\nDay: 22\n"
     ]
    }
   ],
   "source": [
    "print(result.groups())\n",
    "print(\"Today is\", result.group())\n",
    "print(\"Month:\", result.group(1))\n",
    "print(\"Day:\", result.group(2))"
   ]
  },
  {
   "cell_type": "code",
   "execution_count": 30,
   "metadata": {},
   "outputs": [
    {
     "output_type": "stream",
     "name": "stdout",
     "text": [
      "['April', 'February', 'September']\nMonth: April\nMonth: February\nMonth: September\n"
     ]
    }
   ],
   "source": [
    "regex = r\"([a-zA-Z]+) \\d+\"\n",
    "matches = re.findall(regex, \"\"\"My mother was born in April 9.\n",
    "                               I was born in February 23.\n",
    "                               My daughter was born on September 1.\"\"\")\n",
    "\n",
    "print(matches)\n",
    "for match in matches:\n",
    "    print(f\"Month:\", match)"
   ]
  },
  {
   "cell_type": "code",
   "execution_count": 31,
   "metadata": {},
   "outputs": [
    {
     "output_type": "stream",
     "name": "stdout",
     "text": [
      "<callable_iterator object at 0x000002593DDA3550>\n<re.Match object; span=(22, 29), match='April 9'>\nMonth: April 9\n<re.Match object; span=(45, 56), match='February 23'>\nMonth: February 23\n<re.Match object; span=(82, 93), match='September 1'>\nMonth: September 1\n"
     ]
    }
   ],
   "source": [
    "regex = r\"([a-zA-Z]+) \\d+\"\n",
    "matches = re.finditer(regex, \n",
    "\"\"\"My mother was born in April 9.\n",
    "I was born in February 23.\n",
    "My daughter was born in September 1.\"\"\")\n",
    "\n",
    "print(matches)\n",
    "for match in matches:\n",
    "    print(match)\n",
    "    print(f\"Month:\", match.group())"
   ]
  },
  {
   "source": [
    "# Replacing\n",
    "\n",
    "## Sub\n",
    "Return the string obtained by replacing n(`count`) occurrences of `pattern` in `input_str` by the replacement repl. If `count` <= 0, all occurrences will be replaced.\n",
    "\n",
    "`replacedString = sub(pattern, repl, input_str, count)`\n",
    "## Examples:"
   ],
   "cell_type": "markdown",
   "metadata": {}
  },
  {
   "cell_type": "code",
   "execution_count": 32,
   "metadata": {},
   "outputs": [
    {
     "output_type": "execute_result",
     "data": {
      "text/plain": [
       "'Yesterday I saw a feline fighting another feline'"
      ]
     },
     "metadata": {},
     "execution_count": 32
    }
   ],
   "source": [
    "text = \"Yesterday I saw a cat fighting another cat\"\n",
    "regex = \"cat\"\n",
    "re.sub(regex, \"feline\", text)"
   ]
  },
  {
   "cell_type": "code",
   "execution_count": 33,
   "metadata": {},
   "outputs": [
    {
     "output_type": "stream",
     "name": "stdout",
     "text": [
      "My mother was born in 9th of April.\nI was born in 23th of February.\nMy daughter was born in 1th of September.\n"
     ]
    }
   ],
   "source": [
    "regex = r\"([a-zA-Z]+) (\\d+)\"\n",
    "\n",
    "order = re.sub(regex, r\"\\2th of \\1\", \"\"\"My mother was born in April 9.\n",
    "I was born in February 23.\n",
    "My daughter was born in September 1.\"\"\")\n",
    "\n",
    "print(order)"
   ]
  },
  {
   "source": [
    "# Spliting\n",
    "## Split\n",
    "Return the list obtained by spliting by n(count) occurrences of pattern in input_str. If count <= 0, all occurrences will be splitted.\n",
    "\n",
    "`result = re.split(pattern, input_str)`\n",
    "## Examples:"
   ],
   "cell_type": "markdown",
   "metadata": {}
  },
  {
   "cell_type": "code",
   "execution_count": 34,
   "metadata": {},
   "outputs": [
    {
     "output_type": "execute_result",
     "data": {
      "text/plain": [
       "['Words', 'words', 'words', '']"
      ]
     },
     "metadata": {},
     "execution_count": 34
    }
   ],
   "source": [
    "re.split(r'\\W+', 'Words, words, words.')"
   ]
  },
  {
   "cell_type": "code",
   "execution_count": 35,
   "metadata": {},
   "outputs": [
    {
     "output_type": "execute_result",
     "data": {
      "text/plain": [
       "['Words', 'words, words.']"
      ]
     },
     "metadata": {},
     "execution_count": 35
    }
   ],
   "source": [
    "re.split(r'\\W+', 'Words, words, words.', 1)"
   ]
  }
 ]
}
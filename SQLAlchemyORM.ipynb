{
 "metadata": {
  "language_info": {
   "codemirror_mode": {
    "name": "ipython",
    "version": 3
   },
   "file_extension": ".py",
   "mimetype": "text/x-python",
   "name": "python",
   "nbconvert_exporter": "python",
   "pygments_lexer": "ipython3",
   "version": "3.8.6-final"
  },
  "orig_nbformat": 2,
  "kernelspec": {
   "name": "python3",
   "display_name": "Python 3"
  }
 },
 "nbformat": 4,
 "nbformat_minor": 2,
 "cells": [
  {
   "cell_type": "code",
   "execution_count": 1,
   "metadata": {},
   "outputs": [
    {
     "output_type": "stream",
     "name": "stdout",
     "text": [
      "Python version: 3.8.6\n"
     ]
    }
   ],
   "source": [
    "import sys\n",
    "print(\"Python version:\", sys.version[:5])\n",
    "from pprint import pprint\n",
    "\n",
    "from sqlalchemy.ext.declarative import declarative_base\n",
    "from sqlalchemy import create_engine, Column, Integer, String, ForeignKey\n",
    "from sqlalchemy.orm import sessionmaker, relationship"
   ]
  },
  {
   "source": [
    "# Initializing engine and session"
   ],
   "cell_type": "markdown",
   "metadata": {}
  },
  {
   "cell_type": "code",
   "execution_count": 2,
   "metadata": {},
   "outputs": [],
   "source": [
    "engine = create_engine(\"sqlite:///db/sqlachemyorm.db\",echo=True)\n",
    "\n",
    "Session = sessionmaker(bind=engine)\n",
    "session = Session()"
   ]
  },
  {
   "source": [
    "# Creating table"
   ],
   "cell_type": "markdown",
   "metadata": {}
  },
  {
   "cell_type": "code",
   "execution_count": 3,
   "metadata": {},
   "outputs": [
    {
     "output_type": "stream",
     "name": "stdout",
     "text": [
      "2020-11-05 17:27:47,954 INFO sqlalchemy.engine.base.Engine SELECT CAST('test plain returns' AS VARCHAR(60)) AS anon_1\n",
      "2020-11-05 17:27:47,955 INFO sqlalchemy.engine.base.Engine ()\n",
      "2020-11-05 17:27:47,956 INFO sqlalchemy.engine.base.Engine SELECT CAST('test unicode returns' AS VARCHAR(60)) AS anon_1\n",
      "2020-11-05 17:27:47,957 INFO sqlalchemy.engine.base.Engine ()\n",
      "2020-11-05 17:27:47,958 INFO sqlalchemy.engine.base.Engine PRAGMA main.table_info(\"products\")\n",
      "2020-11-05 17:27:47,959 INFO sqlalchemy.engine.base.Engine ()\n",
      "2020-11-05 17:27:47,960 INFO sqlalchemy.engine.base.Engine PRAGMA temp.table_info(\"products\")\n",
      "2020-11-05 17:27:47,961 INFO sqlalchemy.engine.base.Engine ()\n",
      "2020-11-05 17:27:47,962 INFO sqlalchemy.engine.base.Engine PRAGMA main.table_info(\"people\")\n",
      "2020-11-05 17:27:47,963 INFO sqlalchemy.engine.base.Engine ()\n",
      "2020-11-05 17:27:47,963 INFO sqlalchemy.engine.base.Engine PRAGMA temp.table_info(\"people\")\n",
      "2020-11-05 17:27:47,964 INFO sqlalchemy.engine.base.Engine ()\n",
      "2020-11-05 17:27:47,965 INFO sqlalchemy.engine.base.Engine \n",
      "CREATE TABLE people (\n",
      "\tid INTEGER NOT NULL, \n",
      "\tname VARCHAR, \n",
      "\temail VARCHAR, \n",
      "\tage INTEGER, \n",
      "\tPRIMARY KEY (id)\n",
      ")\n",
      "\n",
      "\n",
      "2020-11-05 17:27:47,966 INFO sqlalchemy.engine.base.Engine ()\n",
      "2020-11-05 17:27:47,971 INFO sqlalchemy.engine.base.Engine COMMIT\n",
      "2020-11-05 17:27:47,972 INFO sqlalchemy.engine.base.Engine \n",
      "CREATE TABLE products (\n",
      "\tid INTEGER NOT NULL, \n",
      "\tname VARCHAR, \n",
      "\tperson_id INTEGER, \n",
      "\tPRIMARY KEY (id), \n",
      "\tFOREIGN KEY(person_id) REFERENCES people (id)\n",
      ")\n",
      "\n",
      "\n",
      "2020-11-05 17:27:47,973 INFO sqlalchemy.engine.base.Engine ()\n",
      "2020-11-05 17:27:47,976 INFO sqlalchemy.engine.base.Engine COMMIT\n"
     ]
    }
   ],
   "source": [
    "Base = declarative_base()\n",
    "\n",
    "# Relation\n",
    "class Product(Base):\n",
    "    __tablename__ = 'products'\n",
    "\n",
    "    id = Column(Integer, primary_key=True)\n",
    "    name = Column(String)\n",
    "    person_id = Column(Integer, ForeignKey(\"people.id\"))\n",
    "    person = relationship('Person')\n",
    "\n",
    "    def __repr__(self):\n",
    "        return f\"Product(name={self.name}, person={self.person})\"\n",
    "\n",
    "class Person(Base):\n",
    "    __tablename__ = \"people\"\n",
    "    \n",
    "    id = Column(Integer, primary_key=True)\n",
    "    name = Column(String)\n",
    "    email = Column(String)\n",
    "    age = Column(Integer)\n",
    "    products = relationship(Product, backref='people')\n",
    "\n",
    "    def __repr__(self):\n",
    "        return f'Person(id={self.id}, name={self.name}, age={self.age}, email={self.email}, products={self.products})'\n",
    "\n",
    "\n",
    "Base.metadata.create_all(engine)"
   ]
  },
  {
   "source": [
    "# Inserting data"
   ],
   "cell_type": "markdown",
   "metadata": {}
  },
  {
   "cell_type": "code",
   "execution_count": 4,
   "metadata": {},
   "outputs": [
    {
     "output_type": "stream",
     "name": "stdout",
     "text": [
      "2020-11-05 17:27:48,006 INFO sqlalchemy.engine.base.Engine BEGIN (implicit)\n",
      "2020-11-05 17:27:48,008 INFO sqlalchemy.engine.base.Engine INSERT INTO people (name, email, age) VALUES (?, ?, ?)\n",
      "2020-11-05 17:27:48,009 INFO sqlalchemy.engine.base.Engine ('Fausto', 'fausto@gmail.com', 10)\n",
      "2020-11-05 17:27:48,011 INFO sqlalchemy.engine.base.Engine INSERT INTO people (name, email, age) VALUES (?, ?, ?)\n",
      "2020-11-05 17:27:48,012 INFO sqlalchemy.engine.base.Engine ('João', 'joaovfsousa@gmail.com', 19)\n",
      "2020-11-05 17:27:48,013 INFO sqlalchemy.engine.base.Engine INSERT INTO people (name, email, age) VALUES (?, ?, ?)\n",
      "2020-11-05 17:27:48,014 INFO sqlalchemy.engine.base.Engine ('Fernando', 'fernando@gmail.com', 23)\n",
      "2020-11-05 17:27:48,014 INFO sqlalchemy.engine.base.Engine INSERT INTO people (name, email, age) VALUES (?, ?, ?)\n",
      "2020-11-05 17:27:48,016 INFO sqlalchemy.engine.base.Engine ('Pedro', 'pedro@gmail.com', 48)\n",
      "2020-11-05 17:27:48,017 INFO sqlalchemy.engine.base.Engine COMMIT\n"
     ]
    }
   ],
   "source": [
    "p1 = Person(name=\"Fausto\", email=\"fausto@gmail.com\", age=10)\n",
    "p2 = Person(name=\"João\", email=\"joaovfsousa@gmail.com\", age=19)\n",
    "p3 = Person(name=\"Fernando\", email=\"fernando@gmail.com\", age=23)\n",
    "p4 = Person(name=\"Pedro\", email=\"pedro@gmail.com\", age=48)\n",
    "\n",
    "session.add(p1)\n",
    "session.add_all([p2, p3, p4])\n",
    "\n",
    "session.commit()"
   ]
  },
  {
   "cell_type": "code",
   "execution_count": 5,
   "metadata": {},
   "outputs": [
    {
     "output_type": "stream",
     "name": "stdout",
     "text": [
      "2020-11-05 17:27:48,050 INFO sqlalchemy.engine.base.Engine BEGIN (implicit)\n",
      "2020-11-05 17:27:48,051 INFO sqlalchemy.engine.base.Engine INSERT INTO people (name, email, age) VALUES (?, ?, ?)\n",
      "2020-11-05 17:27:48,051 INFO sqlalchemy.engine.base.Engine ('Leonardo', 'leo@gmail.com', 41)\n"
     ]
    }
   ],
   "source": [
    "p5 = Person(name=\"Leonardo\", email=\"leo@gmail.com\", age=41)\n",
    "\n",
    "session.add(p5)\n",
    "session.flush()"
   ]
  },
  {
   "source": [
    "# Select"
   ],
   "cell_type": "markdown",
   "metadata": {}
  },
  {
   "cell_type": "code",
   "execution_count": 6,
   "metadata": {},
   "outputs": [
    {
     "output_type": "stream",
     "name": "stdout",
     "text": [
      "2020-11-05 17:27:48,078 INFO sqlalchemy.engine.base.Engine SELECT people.id AS people_id, people.name AS people_name, people.email AS people_email, people.age AS people_age \n",
      "FROM people\n",
      "2020-11-05 17:27:48,079 INFO sqlalchemy.engine.base.Engine ()\n",
      "2020-11-05 17:27:48,081 INFO sqlalchemy.engine.base.Engine SELECT products.id AS products_id, products.name AS products_name, products.person_id AS products_person_id \n",
      "FROM products \n",
      "WHERE ? = products.person_id\n",
      "2020-11-05 17:27:48,082 INFO sqlalchemy.engine.base.Engine (1,)\n",
      "2020-11-05 17:27:48,083 INFO sqlalchemy.engine.base.Engine SELECT products.id AS products_id, products.name AS products_name, products.person_id AS products_person_id \n",
      "FROM products \n",
      "WHERE ? = products.person_id\n",
      "2020-11-05 17:27:48,083 INFO sqlalchemy.engine.base.Engine (2,)\n",
      "2020-11-05 17:27:48,084 INFO sqlalchemy.engine.base.Engine SELECT products.id AS products_id, products.name AS products_name, products.person_id AS products_person_id \n",
      "FROM products \n",
      "WHERE ? = products.person_id\n",
      "2020-11-05 17:27:48,085 INFO sqlalchemy.engine.base.Engine (3,)\n",
      "2020-11-05 17:27:48,086 INFO sqlalchemy.engine.base.Engine SELECT products.id AS products_id, products.name AS products_name, products.person_id AS products_person_id \n",
      "FROM products \n",
      "WHERE ? = products.person_id\n",
      "2020-11-05 17:27:48,087 INFO sqlalchemy.engine.base.Engine (4,)\n",
      "2020-11-05 17:27:48,088 INFO sqlalchemy.engine.base.Engine SELECT products.id AS products_id, products.name AS products_name, products.person_id AS products_person_id \n",
      "FROM products \n",
      "WHERE ? = products.person_id\n",
      "2020-11-05 17:27:48,089 INFO sqlalchemy.engine.base.Engine (5,)\n",
      "[Person(id=1, name=Fausto, age=10, email=fausto@gmail.com, products=[]),\n",
      " Person(id=2, name=João, age=19, email=joaovfsousa@gmail.com, products=[]),\n",
      " Person(id=3, name=Fernando, age=23, email=fernando@gmail.com, products=[]),\n",
      " Person(id=4, name=Pedro, age=48, email=pedro@gmail.com, products=[]),\n",
      " Person(id=5, name=Leonardo, age=41, email=leo@gmail.com, products=[])]\n"
     ]
    }
   ],
   "source": [
    "pprint(session.query(Person).all())"
   ]
  }
 ]
}
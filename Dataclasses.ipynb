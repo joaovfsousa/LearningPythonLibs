{
 "metadata": {
  "language_info": {
   "codemirror_mode": {
    "name": "ipython",
    "version": 3
   },
   "file_extension": ".py",
   "mimetype": "text/x-python",
   "name": "python",
   "nbconvert_exporter": "python",
   "pygments_lexer": "ipython3",
   "version": "3.8.5-final"
  },
  "orig_nbformat": 2,
  "kernelspec": {
   "name": "python3",
   "display_name": "Python 3"
  }
 },
 "nbformat": 4,
 "nbformat_minor": 2,
 "cells": [
  {
   "cell_type": "code",
   "execution_count": 4,
   "metadata": {},
   "outputs": [
    {
     "output_type": "stream",
     "name": "stdout",
     "text": [
      "Python version 3.8.5\n"
     ]
    }
   ],
   "source": [
    "import sys\n",
    "print(\"Python version\", sys.version[:5])\n",
    "from dataclasses import dataclass\n",
    "from collections import namedtuple"
   ]
  },
  {
   "source": [
    "# Definition\n",
    "Python classic dataclass definition"
   ],
   "cell_type": "markdown",
   "metadata": {}
  },
  {
   "cell_type": "code",
   "execution_count": 2,
   "metadata": {},
   "outputs": [
    {
     "output_type": "stream",
     "name": "stdout",
     "text": [
      "User(name=João, age=19, code=345125234)\n"
     ]
    }
   ],
   "source": [
    "class User:\n",
    "    def __init__(self, name: str, age: int, code: int):\n",
    "        self.name = name\n",
    "        self.age = age\n",
    "        self.code = code\n",
    "    \n",
    "    def __repr__(self):\n",
    "        return f\"User(name={self.name}, age={self.age}, code={self.code})\"\n",
    "\n",
    "joao = User(\"João\", 19, 345125234)\n",
    "print(joao)"
   ]
  },
  {
   "source": [
    "Using `@dataclass`"
   ],
   "cell_type": "markdown",
   "metadata": {}
  },
  {
   "cell_type": "code",
   "execution_count": 3,
   "metadata": {},
   "outputs": [
    {
     "output_type": "stream",
     "name": "stdout",
     "text": [
      "User(name=João, age=19, code=345125234)\n"
     ]
    }
   ],
   "source": [
    "@dataclass\n",
    "class UserDt:\n",
    "    name: str\n",
    "    age: int\n",
    "    code: int\n",
    "\n",
    "joao = User(\"João\", 19, 345125234)\n",
    "print(joao)"
   ]
  },
  {
   "source": [
    "# Dataclass vs NamedTuple"
   ],
   "cell_type": "markdown",
   "metadata": {}
  },
  {
   "cell_type": "code",
   "execution_count": 7,
   "metadata": {},
   "outputs": [
    {
     "output_type": "stream",
     "name": "stdout",
     "text": [
      "User(name='João', age=19, code=345125234)\n"
     ]
    }
   ],
   "source": [
    "# cant specify types\n",
    "user = namedtuple(\"User\", \"name age code\")\n",
    "joao = user(\"João\", 19, 345125234)\n",
    "print(joao)"
   ]
  },
  {
   "cell_type": "code",
   "execution_count": 12,
   "metadata": {},
   "outputs": [
    {
     "output_type": "stream",
     "name": "stdout",
     "text": [
      "User(name='João', age=19, code=345125234)\nUserNT(name='João', age=19, code=345125234)\n"
     ]
    }
   ],
   "source": [
    "from typing import NamedTuple\n",
    "\n",
    "class User(NamedTuple):\n",
    "    name: str\n",
    "    age: int\n",
    "    code: int\n",
    "\n",
    "joao = User(\"João\", 19, 345125234)\n",
    "print(joao)\n",
    "\n",
    "UserNT = NamedTuple(\"UserNT\", [(\"name\", str), (\"age\", int), (\"code\", int)])\n",
    "\n",
    "joaoNT = UserNT(\"João\", 19, 345125234)\n",
    "print(joaoNT)"
   ]
  },
  {
   "source": [
    "# Importance and usage"
   ],
   "cell_type": "markdown",
   "metadata": {}
  },
  {
   "cell_type": "code",
   "execution_count": 15,
   "metadata": {},
   "outputs": [
    {
     "output_type": "stream",
     "name": "stdout",
     "text": [
      "João + 19\n"
     ]
    }
   ],
   "source": [
    "@dataclass\n",
    "class User:\n",
    "    \"\"\"\n",
    "    @dataclass overwrites __init__ and __repr__\n",
    "\n",
    "    Use __post_init__ to initialize. \n",
    "    \"\"\"\n",
    "    name: str\n",
    "    age: int\n",
    "\n",
    "    def __post_init__(self):\n",
    "        self.xpto = f\"{self.name} + {self.age}\"\n",
    "\n",
    "joao = User(\"João\", 19)\n",
    "\n",
    "print(joao.xpto)"
   ]
  }
 ]
}
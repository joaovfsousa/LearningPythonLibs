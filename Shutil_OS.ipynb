{
 "metadata": {
  "language_info": {
   "codemirror_mode": {
    "name": "ipython",
    "version": 3
   },
   "file_extension": ".py",
   "mimetype": "text/x-python",
   "name": "python",
   "nbconvert_exporter": "python",
   "pygments_lexer": "ipython3",
   "version": "3.8.6-final"
  },
  "orig_nbformat": 2,
  "kernelspec": {
   "name": "python3",
   "display_name": "Python 3"
  }
 },
 "nbformat": 4,
 "nbformat_minor": 2,
 "cells": [
  {
   "cell_type": "code",
   "execution_count": 30,
   "metadata": {},
   "outputs": [
    {
     "output_type": "stream",
     "name": "stdout",
     "text": [
      "Python version: 3.8.6\n"
     ]
    }
   ],
   "source": [
    "import sys\n",
    "print('Python version: ' + sys.version[:5])\n",
    "\n",
    "import os\n",
    "import os.path\n",
    "import shutil\n",
    "from pathlib import Path"
   ]
  },
  {
   "cell_type": "code",
   "execution_count": 39,
   "metadata": {},
   "outputs": [
    {
     "output_type": "stream",
     "name": "stdout",
     "text": [
      "['xpto.txt', 'xpto_1.txt', 'xpto_2.txt', 'xpto_3.txt']\n"
     ]
    }
   ],
   "source": [
    "os.chdir(\"C:\\Projects\\LearningPythonLibs\")\n",
    "\n",
    "path = lambda x: \"path_exercises/\" + x\n",
    "\n",
    "# Creates path if it doesn't exist\n",
    "if not os.path.exists(path('1')):\n",
    "    os.mkdir(path('1'))\n",
    "\n",
    "# Change dir\n",
    "os.chdir(\"path_exercises/1\")\n",
    "\n",
    "\n",
    "# Creates xpto file\n",
    "Path(\"xpto.txt\").touch()\n",
    "\n",
    "# \n",
    "for el in range(1, 4):\n",
    "    shutil.copy(\"xpto.txt\", f\"xpto_{el}.txt\")\n",
    "\n",
    "exercise1_files = os.listdir('.')\n",
    "print(exercise1_files)\n",
    "assert len(exercise1_files) == 4"
   ]
  },
  {
   "cell_type": "code",
   "execution_count": 54,
   "metadata": {},
   "outputs": [
    {
     "output_type": "execute_result",
     "data": {
      "text/plain": [
       "['live_1.txt', 'live_2.txt', 'live_3.txt', 'live_4.txt']"
      ]
     },
     "metadata": {},
     "execution_count": 54
    }
   ],
   "source": [
    "os.chdir(\"C:\\Projects\\LearningPythonLibs\")\n",
    "\n",
    "if not os.path.exists(path('2')):\n",
    "    os.mkdir(path('2'))\n",
    "\n",
    "os.chdir(\"path_exercises/2\")\n",
    "\n",
    "for el in range(10):\n",
    "    Path(f\"live_{el}.txt\").touch()\n",
    "\n",
    "exercise2_files = os.listdir('.')\n",
    "\n",
    "for _file in exercise2_files:\n",
    "    if int(_file.partition('_')[2][0]) <= 5:\n",
    "        os.remove(_file)\n",
    "\n",
    "exercise2_files = os.listdir('.')\n",
    "\n",
    "for index, el in enumerate(sorted(exercise2_files), 1):\n",
    "    shutil.move(el, f\"live_{index}.txt\")\n",
    "\n",
    "os.listdir('.')"
   ]
  },
  {
   "cell_type": "code",
   "execution_count": 61,
   "metadata": {},
   "outputs": [
    {
     "output_type": "stream",
     "name": "stdout",
     "text": [
      "('.', ['dir_1', 'dir_10', 'dir_2', 'dir_3', 'dir_4', 'dir_5', 'dir_6', 'dir_7', 'dir_8', 'dir_9'], [])\n('.\\\\dir_1', [], ['file_0.txt', 'file_1.txt'])\n('.\\\\dir_10', [], ['file_0.txt', 'file_1.txt'])\n('.\\\\dir_2', [], ['file_0.txt', 'file_1.txt'])\n('.\\\\dir_3', [], ['file_0.txt', 'file_1.txt'])\n('.\\\\dir_4', [], ['file_0.txt', 'file_1.txt'])\n('.\\\\dir_5', [], ['file_0.txt', 'file_1.txt'])\n('.\\\\dir_6', [], ['file_0.txt', 'file_1.txt'])\n('.\\\\dir_7', [], ['file_0.txt', 'file_1.txt'])\n('.\\\\dir_8', [], ['file_0.txt', 'file_1.txt'])\n('.\\\\dir_9', [], ['file_0.txt', 'file_1.txt'])\n"
     ]
    }
   ],
   "source": [
    "os.chdir(\"C:\\Projects\\LearningPythonLibs\")\n",
    "\n",
    "if not os.path.exists(path(\"3\")):\n",
    "    os.mkdir(path(\"3\"))\n",
    "\n",
    "os.chdir(\"path_exercises/3\")\n",
    "\n",
    "for x in range(1, 11):\n",
    "    _dir = f\"dir_{x}\"\n",
    "    if not os.path.exists(_dir):    \n",
    "        os.mkdir(_dir)\n",
    "\n",
    "dirs = os.listdir('.')\n",
    "\n",
    "for _dir in dirs:\n",
    "    for i in range(2):\n",
    "        Path(_dir + \"/file_\" + str(i) + \".txt\").touch()\n",
    "\n",
    "for val in os.walk(\".\"):\n",
    "    print(val)"
   ]
  }
 ]
}
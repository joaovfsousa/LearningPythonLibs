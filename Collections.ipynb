{
 "metadata": {
  "language_info": {
   "codemirror_mode": {
    "name": "ipython",
    "version": 3
   },
   "file_extension": ".py",
   "mimetype": "text/x-python",
   "name": "python",
   "nbconvert_exporter": "python",
   "pygments_lexer": "ipython3",
   "version": "3.8.5-final"
  },
  "orig_nbformat": 2,
  "kernelspec": {
   "name": "python3",
   "display_name": "Python 3"
  }
 },
 "nbformat": 4,
 "nbformat_minor": 2,
 "cells": [
  {
   "cell_type": "code",
   "execution_count": 3,
   "metadata": {},
   "outputs": [
    {
     "output_type": "stream",
     "name": "stdout",
     "text": [
      "Python version: 3.8.5\n"
     ]
    }
   ],
   "source": [
    "import sys\n",
    "print(\"Python version:\", sys.version[:5])\n",
    "from collections import deque, namedtuple, Counter, defaultdict, OrderedDict, ChainMap, UserList, UserDict, UserString\n",
    "import collections.abc"
   ]
  },
  {
   "source": [
    "# Deque\n",
    "\n",
    "Basically a list, a stack and a queue. Also can be circular."
   ],
   "cell_type": "markdown",
   "metadata": {}
  },
  {
   "cell_type": "code",
   "execution_count": 13,
   "metadata": {},
   "outputs": [
    {
     "output_type": "stream",
     "name": "stdout",
     "text": [
      "List []\nList [99]\nList [99, 100]\nList [99, 1, 100]\n"
     ]
    }
   ],
   "source": [
    "class Alist:\n",
    "    def __init__(self):\n",
    "        self.alist = deque()\n",
    "\n",
    "    def insert(self, value, pos=None):\n",
    "        if pos is not None:\n",
    "            self.alist.insert(pos, value)\n",
    "        else:\n",
    "            self.alist.append(value)\n",
    "    \n",
    "    def remove(self, value):\n",
    "        return self.alist.remove(value)\n",
    "    \n",
    "    def __repr__(self):\n",
    "        return f\"List [{', '.join(str(x) for x in self.alist)}]\"\n",
    "\n",
    "alist = Alist()\n",
    "\n",
    "print(alist)\n",
    "alist.insert(99)\n",
    "print(alist)\n",
    "alist.insert(100)\n",
    "print(alist)\n",
    "alist.insert(1, 1)\n",
    "print(alist)"
   ]
  },
  {
   "cell_type": "code",
   "execution_count": 15,
   "metadata": {},
   "outputs": [
    {
     "output_type": "stream",
     "name": "stdout",
     "text": [
      "Queue []\nQueue [10]\nQueue [10, 99]\nQueue [10, 99, xpto]\n10\nQueue [99, xpto]\n"
     ]
    }
   ],
   "source": [
    "class Queue:\n",
    "    def __init__(self):\n",
    "        self.alist = deque()\n",
    "\n",
    "    def insert(self, value):\n",
    "        self.alist.append(value)\n",
    "    \n",
    "    def remove(self):\n",
    "        return self.alist.popleft()\n",
    "    \n",
    "    def __repr__(self):\n",
    "        return f\"Queue [{', '.join(str(x) for x in self.alist)}]\"\n",
    "\n",
    "queue = Queue()\n",
    "\n",
    "print(queue)\n",
    "queue.insert(10)\n",
    "print(queue)\n",
    "queue.insert(99)\n",
    "print(queue)\n",
    "queue.insert(\"xpto\")\n",
    "print(queue)\n",
    "print(queue.remove())\n",
    "print(queue)"
   ]
  },
  {
   "cell_type": "code",
   "execution_count": 16,
   "metadata": {},
   "outputs": [
    {
     "output_type": "stream",
     "name": "stdout",
     "text": [
      "Stack [10, 99, xpto]\nxpto\nStack [10, 99]\n"
     ]
    }
   ],
   "source": [
    "class Stack:\n",
    "    def __init__(self):\n",
    "        self.alist = deque()\n",
    "\n",
    "    def insert(self, value):\n",
    "        self.alist.append(value)\n",
    "    \n",
    "    def remove(self):\n",
    "        return self.alist.pop()\n",
    "\n",
    "    def __repr__(self):\n",
    "        return f\"Stack [{', '.join(str(x) for x in self.alist)}]\"\n",
    "\n",
    "stack = Stack()\n",
    "stack.insert(10)\n",
    "stack.insert(99)\n",
    "stack.insert(\"xpto\")\n",
    "print(stack)\n",
    "print(stack.remove())\n",
    "print(stack)"
   ]
  },
  {
   "source": [
    "## Real world example of Deque usage\n",
    "### Cache"
   ],
   "cell_type": "markdown",
   "metadata": {}
  },
  {
   "cell_type": "code",
   "execution_count": 18,
   "metadata": {},
   "outputs": [
    {
     "output_type": "stream",
     "name": "stdout",
     "text": [
      "2\ndeque([(1, 1)], maxlen=3)\n26\ndeque([(1, 1), (9, 17)], maxlen=3)\n20\ndeque([(1, 1), (9, 17), (10, 10)], maxlen=3)\n117\ndeque([(9, 17), (10, 10), (99, 18)], maxlen=3)\n"
     ]
    }
   ],
   "source": [
    "cache_values = deque(maxlen=3)\n",
    "\n",
    "def cache(func):\n",
    "    def inner(*args):\n",
    "        cache_values.append(args)\n",
    "        return func(*args)\n",
    "    return inner\n",
    "\n",
    "@cache\n",
    "def soma(x, y):\n",
    "    return x + y\n",
    "\n",
    "print(soma(1, 1))\n",
    "print(cache_values)\n",
    "print(soma(9, 17))\n",
    "print(cache_values)\n",
    "print(soma(10, 10))\n",
    "print(cache_values)\n",
    "print(soma(99, 18))\n",
    "print(cache_values)"
   ]
  }
 ]
}
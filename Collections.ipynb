{
 "metadata": {
  "language_info": {
   "codemirror_mode": {
    "name": "ipython",
    "version": 3
   },
   "file_extension": ".py",
   "mimetype": "text/x-python",
   "name": "python",
   "nbconvert_exporter": "python",
   "pygments_lexer": "ipython3",
   "version": "3.8.5-final"
  },
  "orig_nbformat": 2,
  "kernelspec": {
   "name": "python3",
   "display_name": "Python 3"
  }
 },
 "nbformat": 4,
 "nbformat_minor": 2,
 "cells": [
  {
   "cell_type": "code",
   "execution_count": 2,
   "metadata": {},
   "outputs": [
    {
     "output_type": "stream",
     "name": "stdout",
     "text": [
      "Python version: 3.8.5\n"
     ]
    }
   ],
   "source": [
    "import sys\n",
    "print(\"Python version:\", sys.version[:5])\n",
    "from collections import deque, namedtuple, Counter, defaultdict, OrderedDict, ChainMap, UserList, UserDict, UserString\n",
    "import collections.abc"
   ]
  },
  {
   "source": [
    "# Deque\n",
    "\n",
    "Basically a list, a stack and a queue. Also can be circular."
   ],
   "cell_type": "markdown",
   "metadata": {}
  },
  {
   "cell_type": "code",
   "execution_count": 13,
   "metadata": {},
   "outputs": [
    {
     "output_type": "stream",
     "name": "stdout",
     "text": [
      "List []\nList [99]\nList [99, 100]\nList [99, 1, 100]\n"
     ]
    }
   ],
   "source": [
    "class Alist:\n",
    "    def __init__(self):\n",
    "        self.alist = deque()\n",
    "\n",
    "    def insert(self, value, pos=None):\n",
    "        if pos is not None:\n",
    "            self.alist.insert(pos, value)\n",
    "        else:\n",
    "            self.alist.append(value)\n",
    "    \n",
    "    def remove(self, value):\n",
    "        return self.alist.remove(value)\n",
    "    \n",
    "    def __repr__(self):\n",
    "        return f\"List [{', '.join(str(x) for x in self.alist)}]\"\n",
    "\n",
    "alist = Alist()\n",
    "\n",
    "print(alist)\n",
    "alist.insert(99)\n",
    "print(alist)\n",
    "alist.insert(100)\n",
    "print(alist)\n",
    "alist.insert(1, 1)\n",
    "print(alist)"
   ]
  },
  {
   "cell_type": "code",
   "execution_count": 15,
   "metadata": {},
   "outputs": [
    {
     "output_type": "stream",
     "name": "stdout",
     "text": [
      "Queue []\nQueue [10]\nQueue [10, 99]\nQueue [10, 99, xpto]\n10\nQueue [99, xpto]\n"
     ]
    }
   ],
   "source": [
    "class Queue:\n",
    "    def __init__(self):\n",
    "        self.alist = deque()\n",
    "\n",
    "    def insert(self, value):\n",
    "        self.alist.append(value)\n",
    "    \n",
    "    def remove(self):\n",
    "        return self.alist.popleft()\n",
    "    \n",
    "    def __repr__(self):\n",
    "        return f\"Queue [{', '.join(str(x) for x in self.alist)}]\"\n",
    "\n",
    "queue = Queue()\n",
    "\n",
    "print(queue)\n",
    "queue.insert(10)\n",
    "print(queue)\n",
    "queue.insert(99)\n",
    "print(queue)\n",
    "queue.insert(\"xpto\")\n",
    "print(queue)\n",
    "print(queue.remove())\n",
    "print(queue)"
   ]
  },
  {
   "cell_type": "code",
   "execution_count": 16,
   "metadata": {},
   "outputs": [
    {
     "output_type": "stream",
     "name": "stdout",
     "text": [
      "Stack [10, 99, xpto]\nxpto\nStack [10, 99]\n"
     ]
    }
   ],
   "source": [
    "class Stack:\n",
    "    def __init__(self):\n",
    "        self.alist = deque()\n",
    "\n",
    "    def insert(self, value):\n",
    "        self.alist.append(value)\n",
    "    \n",
    "    def remove(self):\n",
    "        return self.alist.pop()\n",
    "\n",
    "    def __repr__(self):\n",
    "        return f\"Stack [{', '.join(str(x) for x in self.alist)}]\"\n",
    "\n",
    "stack = Stack()\n",
    "stack.insert(10)\n",
    "stack.insert(99)\n",
    "stack.insert(\"xpto\")\n",
    "print(stack)\n",
    "print(stack.remove())\n",
    "print(stack)"
   ]
  },
  {
   "source": [
    "## Real world example of Deque usage\n",
    "### Cache"
   ],
   "cell_type": "markdown",
   "metadata": {}
  },
  {
   "cell_type": "code",
   "execution_count": 18,
   "metadata": {},
   "outputs": [
    {
     "output_type": "stream",
     "name": "stdout",
     "text": [
      "2\ndeque([(1, 1)], maxlen=3)\n26\ndeque([(1, 1), (9, 17)], maxlen=3)\n20\ndeque([(1, 1), (9, 17), (10, 10)], maxlen=3)\n117\ndeque([(9, 17), (10, 10), (99, 18)], maxlen=3)\n"
     ]
    }
   ],
   "source": [
    "cache_values = deque(maxlen=3)\n",
    "\n",
    "def cache(func):\n",
    "    def inner(*args):\n",
    "        cache_values.append(args)\n",
    "        return func(*args)\n",
    "    return inner\n",
    "\n",
    "@cache\n",
    "def soma(x, y):\n",
    "    return x + y\n",
    "\n",
    "print(soma(1, 1))\n",
    "print(cache_values)\n",
    "print(soma(9, 17))\n",
    "print(cache_values)\n",
    "print(soma(10, 10))\n",
    "print(cache_values)\n",
    "print(soma(99, 18))\n",
    "print(cache_values)"
   ]
  },
  {
   "source": [
    "# Nametuple\n",
    "\n",
    "A tuple that can be accessed by index, slice and attributes."
   ],
   "cell_type": "markdown",
   "metadata": {}
  },
  {
   "cell_type": "code",
   "execution_count": 4,
   "metadata": {},
   "outputs": [
    {
     "output_type": "stream",
     "name": "stdout",
     "text": [
      "Player(name='Luke Sky', team='Flamengo', shirt_number=32, id=623)\nLuke Sky\n623\n"
     ]
    },
    {
     "output_type": "error",
     "ename": "AttributeError",
     "evalue": "can't set attribute",
     "traceback": [
      "\u001b[0;31m---------------------------------------------------------------------------\u001b[0m",
      "\u001b[0;31mAttributeError\u001b[0m                            Traceback (most recent call last)",
      "\u001b[0;32m<ipython-input-4-ab241d40f367>\u001b[0m in \u001b[0;36m<module>\u001b[0;34m\u001b[0m\n\u001b[1;32m      4\u001b[0m \u001b[0mprint\u001b[0m\u001b[0;34m(\u001b[0m\u001b[0mluke\u001b[0m\u001b[0;34m.\u001b[0m\u001b[0mname\u001b[0m\u001b[0;34m)\u001b[0m\u001b[0;34m\u001b[0m\u001b[0;34m\u001b[0m\u001b[0m\n\u001b[1;32m      5\u001b[0m \u001b[0mprint\u001b[0m\u001b[0;34m(\u001b[0m\u001b[0mluke\u001b[0m\u001b[0;34m.\u001b[0m\u001b[0mid\u001b[0m\u001b[0;34m)\u001b[0m\u001b[0;34m\u001b[0m\u001b[0;34m\u001b[0m\u001b[0m\n\u001b[0;32m----> 6\u001b[0;31m \u001b[0mluke\u001b[0m\u001b[0;34m.\u001b[0m\u001b[0mid\u001b[0m \u001b[0;34m=\u001b[0m \u001b[0;36m21\u001b[0m\u001b[0;34m\u001b[0m\u001b[0;34m\u001b[0m\u001b[0m\n\u001b[0m",
      "\u001b[0;31mAttributeError\u001b[0m: can't set attribute"
     ]
    }
   ],
   "source": [
    "p = namedtuple(\"Player\", [\"name\", \"team\", \"shirt_number\", \"id\"])\n",
    "luke = p(\"Luke Sky\", \"Flamengo\", 32, 623)\n",
    "print(luke)\n",
    "print(luke.name)\n",
    "print(luke.id)\n",
    "luke.id = 21"
   ]
  },
  {
   "cell_type": "code",
   "execution_count": 8,
   "metadata": {},
   "outputs": [
    {
     "output_type": "execute_result",
     "data": {
      "text/plain": [
       "[Card(suit='D', value=2),\n",
       " Card(suit='D', value=3),\n",
       " Card(suit='D', value=4),\n",
       " Card(suit='D', value=5),\n",
       " Card(suit='D', value=6),\n",
       " Card(suit='D', value=7),\n",
       " Card(suit='D', value=8),\n",
       " Card(suit='D', value=9),\n",
       " Card(suit='D', value=10),\n",
       " Card(suit='D', value='A'),\n",
       " Card(suit='D', value='K'),\n",
       " Card(suit='D', value='Q'),\n",
       " Card(suit='D', value='J'),\n",
       " Card(suit='C', value=2),\n",
       " Card(suit='C', value=3),\n",
       " Card(suit='C', value=4),\n",
       " Card(suit='C', value=5),\n",
       " Card(suit='C', value=6),\n",
       " Card(suit='C', value=7),\n",
       " Card(suit='C', value=8),\n",
       " Card(suit='C', value=9),\n",
       " Card(suit='C', value=10),\n",
       " Card(suit='C', value='A'),\n",
       " Card(suit='C', value='K'),\n",
       " Card(suit='C', value='Q'),\n",
       " Card(suit='C', value='J'),\n",
       " Card(suit='H', value=2),\n",
       " Card(suit='H', value=3),\n",
       " Card(suit='H', value=4),\n",
       " Card(suit='H', value=5),\n",
       " Card(suit='H', value=6),\n",
       " Card(suit='H', value=7),\n",
       " Card(suit='H', value=8),\n",
       " Card(suit='H', value=9),\n",
       " Card(suit='H', value=10),\n",
       " Card(suit='H', value='A'),\n",
       " Card(suit='H', value='K'),\n",
       " Card(suit='H', value='Q'),\n",
       " Card(suit='H', value='J'),\n",
       " Card(suit='S', value=2),\n",
       " Card(suit='S', value=3),\n",
       " Card(suit='S', value=4),\n",
       " Card(suit='S', value=5),\n",
       " Card(suit='S', value=6),\n",
       " Card(suit='S', value=7),\n",
       " Card(suit='S', value=8),\n",
       " Card(suit='S', value=9),\n",
       " Card(suit='S', value=10),\n",
       " Card(suit='S', value='A'),\n",
       " Card(suit='S', value='K'),\n",
       " Card(suit='S', value='Q'),\n",
       " Card(suit='S', value='J')]"
      ]
     },
     "metadata": {},
     "execution_count": 8
    }
   ],
   "source": [
    "suits = \"D C H S\".split()\n",
    "values = list(range(2, 11)) + \"A K Q J\".split()\n",
    "card = namedtuple(\"Card\", \"suit value\")\n",
    "deck = [card(suit, value) for suit in suits for value in values]\n",
    "deck"
   ]
  },
  {
   "source": [
    "# Ordered Dict\n",
    "Dict that maintain the key:value insertion order"
   ],
   "cell_type": "markdown",
   "metadata": {}
  },
  {
   "source": [
    "# Default Dict\n",
    "Dict that returns a default value for not assigned keys and assigns the default value to the key."
   ],
   "cell_type": "markdown",
   "metadata": {}
  },
  {
   "source": [
    "# Counter\n",
    "Do counting on iterables\n",
    "\n",
    "## Example:"
   ],
   "cell_type": "markdown",
   "metadata": {}
  },
  {
   "cell_type": "code",
   "execution_count": 9,
   "metadata": {},
   "outputs": [
    {
     "output_type": "execute_result",
     "data": {
      "text/plain": [
       "Counter({'J': 1, 'o': 3, 'a': 1, ' ': 1, 'V': 1, 'i': 1, 't': 1, 'r': 1})"
      ]
     },
     "metadata": {},
     "execution_count": 9
    }
   ],
   "source": [
    "string = \"Joao Vitor\"\n",
    "Counter(string)"
   ]
  },
  {
   "source": [
    "# ChainMap"
   ],
   "cell_type": "markdown",
   "metadata": {}
  },
  {
   "cell_type": "code",
   "execution_count": 1,
   "metadata": {},
   "outputs": [
    {
     "output_type": "execute_result",
     "data": {
      "text/plain": [
       "{1: 'a', 2: 'x', 3: 'z'}"
      ]
     },
     "metadata": {},
     "execution_count": 1
    }
   ],
   "source": [
    "a = {1:'a', 2:'b', 3:'c'}\n",
    "b = {2:'x', 3:'z'}\n",
    "a.update(b)\n",
    "a"
   ]
  },
  {
   "source": [
    "Updating a dict `a` with dict `b` would overwrite the common keys with the values of dict `b`.\n",
    "ChainMap solves this problem."
   ],
   "cell_type": "markdown",
   "metadata": {}
  },
  {
   "cell_type": "code",
   "execution_count": 5,
   "metadata": {},
   "outputs": [
    {
     "output_type": "stream",
     "name": "stdout",
     "text": [
      "ChainMap({1: 'a', 2: 'b', 3: 'c'}, {2: 'x', 3: 'z', 4: 'w'})\na\nb\nw\n"
     ]
    }
   ],
   "source": [
    "a = {1:'a', 2:'b', 3:'c'}\n",
    "b = {2:'x', 3:'z', 4:'w'}\n",
    "\n",
    "c = ChainMap(a, b)\n",
    "print(c)\n",
    "\n",
    "print(c[1])\n",
    "print(c[2])\n",
    "print(c[4])"
   ]
  },
  {
   "source": [
    "## Method maps\n",
    "Access the chained dictionaries individually."
   ],
   "cell_type": "markdown",
   "metadata": {}
  },
  {
   "cell_type": "code",
   "execution_count": 8,
   "metadata": {},
   "outputs": [
    {
     "output_type": "stream",
     "name": "stdout",
     "text": [
      "b\nc\nx\nz\n"
     ]
    }
   ],
   "source": [
    "print(c.maps[0][2])\n",
    "print(c.maps[0][3])\n",
    "print(c.maps[1][2])\n",
    "print(c.maps[1][3])"
   ]
  },
  {
   "source": [
    "## Real world example - dealing with default configs"
   ],
   "cell_type": "markdown",
   "metadata": {}
  },
  {
   "cell_type": "code",
   "execution_count": 13,
   "metadata": {},
   "outputs": [],
   "source": [
    "# dont run this cell inside a notebook\n",
    "from os import environ\n",
    "from argparse import ArgumentParser\n",
    "\n",
    "defaults = {\"color\": \"red\",\n",
    "            \"user\": \"guest\"}\n",
    "\n",
    "parser = ArgumentParser()\n",
    "parser.add_argument(\"-u\", \"--user\")\n",
    "parser.add_argument(\"-c\", \"--color\")\n",
    "\n",
    "namespace = parser.parse_args()\n",
    "\n",
    "cmd_line = {k: v for k, v in vars(namespace).items() if v}\n",
    "\n",
    "cfg = ChainMap(cmd_line, environ, defaults)"
   ]
  }
 ]
}